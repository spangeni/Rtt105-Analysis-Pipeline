{
 "cells": [
  {
   "cell_type": "code",
   "execution_count": null,
   "metadata": {},
   "outputs": [],
   "source": [
    "#@sushil\n",
    "#@HaLab\n",
    "import glob\n",
    "import os\n",
    "import numpy as np\n",
    "import matplotlib.pyplot as plt\n",
    "\n",
    "import lumicks.pylake as lk\n",
    "%matplotlib widget\n",
    "%matplotlib inline"
   ]
  },
  {
   "cell_type": "code",
   "execution_count": null,
   "metadata": {},
   "outputs": [],
   "source": [
    "directory_h= r\"Give your directory name\" #directory\n",
    "d_current = r\"/\"\n",
    "directory_save = directory_h + d_current\n",
    "filename = glob.glob(directory_save+'*Kymograph 22.h5') #just need to give the kymo number , 1 ,2 or 3....\n",
    "#if you have scan, chnage Kymograph to Scan xx.h5, i.e you cna change only number and that will load next file.\n",
    "file = lk.File(filename[0])\n",
    "name, kymo = file.kymos.popitem()\n",
    "kymo.plot_rgb(aspect=\"auto\",vmin=1,vmax=20)\n",
    "plt.show()\n",
    "# plt.savefig(b+'plot.png')\n"
   ]
  },
  {
   "cell_type": "code",
   "execution_count": null,
   "metadata": {},
   "outputs": [],
   "source": [
    "%matplotlib widget\n",
    "plt.figure(dpi=100)#this is for the figure resolution\n",
    "data=kymo[\"68.5s\":\"800s\"].crop_by_distance(0,25)#first part is time second is distance\n",
    "data.plot_green(aspect='auto',vmin=1,vmax=20)#change green ,red or rgb for the figure\n",
    "#vmin will take care of background and vmax will take care of intnsity, chnage it as you deem suitale\n",
    "plt.title(\"\")#give your  title as you want\n",
    "plt.xlabel('Time [s]',fontsize=24,fontname=\"Arial\")\n",
    "plt.ylabel('Position [\\u03bcm]',fontsize=24,fontname=\"Arial\")\n",
    "plt.tick_params(axis=\"x\", direction=\"in\", length=4, width=2)\n",
    "plt.tick_params(axis=\"y\", direction=\"in\", length=4, width=2)\n",
    "plt.xticks(fontsize=20, fontname=\"Arial\")\n",
    "plt.yticks(fontsize=20,fontname=\"Arial\")\n"
   ]
  },
  {
   "cell_type": "code",
   "execution_count": null,
   "metadata": {},
   "outputs": [],
   "source": [
    "green=data.green_photon_count.data\n",
    "red=data.red_photon_count.data\n",
    "time=data.blue_photon_count.seconds\n",
    "#plt.plot(time,green)\n",
    "#plt.hist(green)"
   ]
  },
  {
   "cell_type": "code",
   "execution_count": null,
   "metadata": {},
   "outputs": [],
   "source": [
    "%matplotlib widget\n",
    "import pandas as pd\n",
    "ts=time\n",
    "\n",
    "bn = 15000    \n",
    "#our C-trap auisition is in nanosecondsi.e each data point is 1 ns ,to caculate the timescale of \n",
    "#binned use the function below\n",
    "def timescale(x):\n",
    "    time_miliseconds=x/1e6\n",
    "    return time_miliseconds\n",
    "#print(timescale(bn))   \n",
    "print('Your Binned Time is:{} ms'.format(timescale(bn)))\n",
    "\n",
    "bnd = []\n",
    "for i in range(0,len(ts)-bn,bn):\n",
    "    gb=sum(green[i:i+bn])\n",
    "    rb=sum(red[i:i+bn])\n",
    "    bnd.append([np.mean(ts[i:i+bn]),gb,rb])\n",
    "\n",
    "df = pd.DataFrame(bnd,columns=['time','green','red'])\n",
    "from sklearn import preprocessing\n",
    "a=np.array((df.iloc[:,1]))\n",
    "normalized_arr = preprocessing.normalize([a.flatten()],axis=1)\n",
    "#print(normalized_arr)\n",
    "\n",
    "\n",
    "fig,ax = plt.subplots(2,1)\n",
    "ax[0].plot(df.iloc[:,0], normalized_arr.flatten())\n",
    "data.plot_green(aspect='auto',vmin=1,vmax=40)\n",
    "#ax[0].set_title('Bin ='+str(bn))\n",
    "ax[0].set_ylabel('afu')\n",
    "plt.title(\"\")#give your  title as you want\n",
    "plt.xlabel('Time [s]')\n",
    "plt.ylabel('Position [\\u03bcm]')\n",
    "\n",
    "\n"
   ]
  },
  {
   "cell_type": "code",
   "execution_count": null,
   "metadata": {},
   "outputs": [],
   "source": [
    "fig,ax = plt.subplots(2,1)\n",
    "df.plot.line(ax=ax[0],x='time',y=['green'],color={\"green\": \"green\"})\n",
    "ax[0].set_title('Bin ='+str(bn))\n",
    "ax[0].set_ylabel('photon count')"
   ]
  }
 ],
 "metadata": {
  "language_info": {
   "name": "python"
  },
  "orig_nbformat": 4
 },
 "nbformat": 4,
 "nbformat_minor": 2
}
